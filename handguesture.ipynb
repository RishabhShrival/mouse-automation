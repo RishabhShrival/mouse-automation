{
 "cells": [
  {
   "cell_type": "markdown",
   "metadata": {},
   "source": [
    "Libraries to install"
   ]
  },
  {
   "cell_type": "code",
   "execution_count": 1,
   "metadata": {},
   "outputs": [],
   "source": [
    "import cv2\n",
    "import mediapipe as mp\n",
    "import pyautogui as pt\n",
    "import keyboard\n",
    "import numpy as np"
   ]
  },
  {
   "cell_type": "markdown",
   "metadata": {},
   "source": [
    "initialize hand module and mouse sensitivity"
   ]
  },
  {
   "cell_type": "code",
   "execution_count": 19,
   "metadata": {},
   "outputs": [],
   "source": [
    "# Initialize MediaPipe Hands module\n",
    "mp_hands = mp.solutions.hands\n",
    "hands = mp_hands.Hands()\n",
    "pt.FAILSAFE=False\n",
    "# Open a video capture object (0 for the default camera)\n",
    "sensitivity=1300\n",
    "scale=1\n"
   ]
  },
  {
   "cell_type": "markdown",
   "metadata": {},
   "source": [
    "click function"
   ]
  },
  {
   "cell_type": "code",
   "execution_count": 24,
   "metadata": {},
   "outputs": [],
   "source": [
    "del_click=0\n",
    "def clickcheck(thumb_,index_mcp_):\n",
    "    global del_click\n",
    "    thumb=np.array((thumb_.x,thumb_.y))\n",
    "    index_mcp=np.array((index_mcp_.x,index_mcp_.y))\n",
    "    # print(\"difference\",np.linalg.norm(thumb-index_mcp))\n",
    "    # print(\"change \",del_click-np.linalg.norm(thumb-index_mcp))\n",
    "\n",
    "    #velocity\n",
    "    # if(del_click-np.linalg.norm(thumb-index_mcp)>0.045 and np.linalg.norm(thumb-index_mcp)<0.05):\n",
    "    #     print(\"click\")\n",
    "    #     pt.click()\n",
    "    # del_click=np.linalg.norm(thumb-index_mcp)\n",
    "\n",
    "    #distance\n",
    "    if(np.linalg.norm(thumb-index_mcp)<0.045):\n",
    "        print(np.linalg.norm(thumb-index_mcp))\n",
    "        pt.click()\n"
   ]
  },
  {
   "cell_type": "markdown",
   "metadata": {},
   "source": [
    "main function"
   ]
  },
  {
   "cell_type": "code",
   "execution_count": 25,
   "metadata": {},
   "outputs": [
    {
     "name": "stdout",
     "output_type": "stream",
     "text": [
      "0.039561816875041185\n",
      "0.03355352900112031\n",
      "0.022471277313621602\n",
      "0.04021241434659719\n",
      "0.04023538845198863\n",
      "0.035345097411906626\n",
      "0.03986841360232607\n",
      "0.036182844552332796\n",
      "0.04025162465974903\n",
      "0.03262537647887371\n",
      "0.043644907834014555\n"
     ]
    }
   ],
   "source": [
    "cap = cv2.VideoCapture(0)\n",
    "while cap.isOpened():\n",
    "    ret, frame = cap.read()\n",
    "    frame=cv2.flip(frame,1)\n",
    "\n",
    "    #mouse intial position\n",
    "    (mouse_initial_x,mouse_initial_y)=pt.position()\n",
    "    if not ret:\n",
    "        continue\n",
    "    # Convert the frame to RGB format\n",
    "    frame_rgb = cv2.cvtColor(frame, cv2.COLOR_BGR2RGB)\n",
    "    \n",
    "    # Process the frame to detect hands\n",
    "    results = hands.process(frame_rgb)\n",
    "\n",
    "    # Check if hands are detected\n",
    "    if results.multi_hand_landmarks:\n",
    "        hand_landmarks =results.multi_hand_landmarks[0]\n",
    "        landmark=hand_landmarks.landmark[mp_hands.HandLandmark.INDEX_FINGER_TIP]\n",
    "        thumb_=hand_landmarks.landmark[mp_hands.HandLandmark.THUMB_TIP]\n",
    "        index_mcp_=hand_landmarks.landmark[mp_hands.HandLandmark.INDEX_FINGER_MCP]\n",
    "        if (hand_initial_position_x,hand_initial_position_y)!=(0,0):\n",
    "            (del_hand_x,del_hand_y)=((landmark.x-hand_initial_position_x),(landmark.y-hand_initial_position_y))\n",
    "            if(del_hand_x*sensitivity<200 and del_hand_y*sensitivity<200):\n",
    "                pt.moveTo(mouse_initial_x+del_hand_x*sensitivity,mouse_initial_y+del_hand_y*sensitivity,duration=0.1)\n",
    "                clickcheck(thumb_,index_mcp_)\n",
    "        hand_initial_position_x=landmark.x\n",
    "        hand_initial_position_y=landmark.y\n",
    "        # # mp_drawing.draw_landmarks(frame, hand_landmarks, mp_hands.HAND_CONNECTIONS)\n",
    "        # for id, landmark in enumerate(hand_landmarks.landmark):\n",
    "        #     if(id==8):\n",
    "        #         if (hand_initial_position_x,hand_initial_position_y)!=(0,0):\n",
    "        #             (del_hand_x,del_hand_y)=((landmark.x-hand_initial_position_x),(landmark.y-hand_initial_position_y))\n",
    "        #             pt.moveTo(mouse_initial_x+del_hand_x*sensitivity,mouse_initial_y+del_hand_y*sensitivity)\n",
    "        #         hand_initial_position_x=landmark.x\n",
    "        #         hand_initial_position_y=landmark.y\n",
    "    else:\n",
    "        hand_initial_position_x,hand_initial_position_y=0,0\n",
    "\n",
    "    \n",
    "\n",
    "    \n",
    "    # Display the frame with hand landmarks\n",
    "    # cv2.imshow('Hand Recognition', frame)\n",
    "    \n",
    "    if keyboard.is_pressed(\"q\"):\n",
    "        cap.release()\n",
    "        break\n",
    "\n",
    "\n",
    "    "
   ]
  },
  {
   "cell_type": "code",
   "execution_count": null,
   "metadata": {},
   "outputs": [],
   "source": []
  }
 ],
 "metadata": {
  "kernelspec": {
   "display_name": "Python 3",
   "language": "python",
   "name": "python3"
  },
  "language_info": {
   "codemirror_mode": {
    "name": "ipython",
    "version": 3
   },
   "file_extension": ".py",
   "mimetype": "text/x-python",
   "name": "python",
   "nbconvert_exporter": "python",
   "pygments_lexer": "ipython3",
   "version": "3.8.10"
  }
 },
 "nbformat": 4,
 "nbformat_minor": 2
}
